{
  "nbformat": 4,
  "nbformat_minor": 0,
  "metadata": {
    "colab": {
      "name": "HeartDisease-MiniProject(19euit128,19euit131).ipynb",
      "provenance": [],
      "collapsed_sections": [],
      "mount_file_id": "1j5BeuIvKNrfL0_p4YC_aGdUUZP41d8oN",
      "authorship_tag": "ABX9TyNpR3FbBBq7II2F1mJ4vHSw",
      "include_colab_link": true
    },
    "kernelspec": {
      "name": "python3",
      "display_name": "Python 3"
    },
    "language_info": {
      "name": "python"
    }
  },
  "cells": [
    {
      "cell_type": "markdown",
      "metadata": {
        "id": "view-in-github",
        "colab_type": "text"
      },
      "source": [
        "<a href=\"https://colab.research.google.com/github/rexremigius/Machine-Learning/blob/main/HeartDisease_MiniProject.ipynb\" target=\"_parent\"><img src=\"https://colab.research.google.com/assets/colab-badge.svg\" alt=\"Open In Colab\"/></a>"
      ]
    },
    {
      "cell_type": "markdown",
      "metadata": {
        "id": "6kVdDGJNzXR4"
      },
      "source": [
        "## Mini Project - Heart Disease detection using Logistic Regression \n",
        "\n"
      ]
    },
    {
      "cell_type": "markdown",
      "metadata": {
        "id": "VTT8M05nIO5z"
      },
      "source": [
        "**Importing datasets and visualizing**"
      ]
    },
    {
      "cell_type": "code",
      "metadata": {
        "colab": {
          "base_uri": "https://localhost:8080/",
          "height": 203
        },
        "id": "QpagpeU-zVYF",
        "outputId": "d052b84a-ecaa-41de-b751-8c5dae85151b"
      },
      "source": [
        "import pandas as pd\n",
        "import matplotlib.pyplot as plt\n",
        "link='/content/drive/MyDrive/MLdatasets/heart (1).csv'\n",
        "data=pd.read_csv(link)\n",
        "data.head()"
      ],
      "execution_count": null,
      "outputs": [
        {
          "output_type": "execute_result",
          "data": {
            "text/html": [
              "<div>\n",
              "<style scoped>\n",
              "    .dataframe tbody tr th:only-of-type {\n",
              "        vertical-align: middle;\n",
              "    }\n",
              "\n",
              "    .dataframe tbody tr th {\n",
              "        vertical-align: top;\n",
              "    }\n",
              "\n",
              "    .dataframe thead th {\n",
              "        text-align: right;\n",
              "    }\n",
              "</style>\n",
              "<table border=\"1\" class=\"dataframe\">\n",
              "  <thead>\n",
              "    <tr style=\"text-align: right;\">\n",
              "      <th></th>\n",
              "      <th>age</th>\n",
              "      <th>sex</th>\n",
              "      <th>cp</th>\n",
              "      <th>trestbps</th>\n",
              "      <th>chol</th>\n",
              "      <th>fbs</th>\n",
              "      <th>restecg</th>\n",
              "      <th>thalach</th>\n",
              "      <th>exang</th>\n",
              "      <th>oldpeak</th>\n",
              "      <th>slope</th>\n",
              "      <th>ca</th>\n",
              "      <th>thal</th>\n",
              "      <th>target</th>\n",
              "    </tr>\n",
              "  </thead>\n",
              "  <tbody>\n",
              "    <tr>\n",
              "      <th>0</th>\n",
              "      <td>63</td>\n",
              "      <td>1</td>\n",
              "      <td>3</td>\n",
              "      <td>145</td>\n",
              "      <td>233</td>\n",
              "      <td>1</td>\n",
              "      <td>0</td>\n",
              "      <td>150</td>\n",
              "      <td>0</td>\n",
              "      <td>2.3</td>\n",
              "      <td>0</td>\n",
              "      <td>0</td>\n",
              "      <td>1</td>\n",
              "      <td>1</td>\n",
              "    </tr>\n",
              "    <tr>\n",
              "      <th>1</th>\n",
              "      <td>37</td>\n",
              "      <td>1</td>\n",
              "      <td>2</td>\n",
              "      <td>130</td>\n",
              "      <td>250</td>\n",
              "      <td>0</td>\n",
              "      <td>1</td>\n",
              "      <td>187</td>\n",
              "      <td>0</td>\n",
              "      <td>3.5</td>\n",
              "      <td>0</td>\n",
              "      <td>0</td>\n",
              "      <td>2</td>\n",
              "      <td>1</td>\n",
              "    </tr>\n",
              "    <tr>\n",
              "      <th>2</th>\n",
              "      <td>41</td>\n",
              "      <td>0</td>\n",
              "      <td>1</td>\n",
              "      <td>130</td>\n",
              "      <td>204</td>\n",
              "      <td>0</td>\n",
              "      <td>0</td>\n",
              "      <td>172</td>\n",
              "      <td>0</td>\n",
              "      <td>1.4</td>\n",
              "      <td>2</td>\n",
              "      <td>0</td>\n",
              "      <td>2</td>\n",
              "      <td>1</td>\n",
              "    </tr>\n",
              "    <tr>\n",
              "      <th>3</th>\n",
              "      <td>56</td>\n",
              "      <td>1</td>\n",
              "      <td>1</td>\n",
              "      <td>120</td>\n",
              "      <td>236</td>\n",
              "      <td>0</td>\n",
              "      <td>1</td>\n",
              "      <td>178</td>\n",
              "      <td>0</td>\n",
              "      <td>0.8</td>\n",
              "      <td>2</td>\n",
              "      <td>0</td>\n",
              "      <td>2</td>\n",
              "      <td>1</td>\n",
              "    </tr>\n",
              "    <tr>\n",
              "      <th>4</th>\n",
              "      <td>57</td>\n",
              "      <td>0</td>\n",
              "      <td>0</td>\n",
              "      <td>120</td>\n",
              "      <td>354</td>\n",
              "      <td>0</td>\n",
              "      <td>1</td>\n",
              "      <td>163</td>\n",
              "      <td>1</td>\n",
              "      <td>0.6</td>\n",
              "      <td>2</td>\n",
              "      <td>0</td>\n",
              "      <td>2</td>\n",
              "      <td>1</td>\n",
              "    </tr>\n",
              "  </tbody>\n",
              "</table>\n",
              "</div>"
            ],
            "text/plain": [
              "   age  sex  cp  trestbps  chol  fbs  ...  exang  oldpeak  slope  ca  thal  target\n",
              "0   63    1   3       145   233    1  ...      0      2.3      0   0     1       1\n",
              "1   37    1   2       130   250    0  ...      0      3.5      0   0     2       1\n",
              "2   41    0   1       130   204    0  ...      0      1.4      2   0     2       1\n",
              "3   56    1   1       120   236    0  ...      0      0.8      2   0     2       1\n",
              "4   57    0   0       120   354    0  ...      1      0.6      2   0     2       1\n",
              "\n",
              "[5 rows x 14 columns]"
            ]
          },
          "metadata": {},
          "execution_count": 2
        }
      ]
    },
    {
      "cell_type": "markdown",
      "metadata": {
        "id": "tqsvoie9PJ-4"
      },
      "source": [
        "**Total count of data with and without disease**"
      ]
    },
    {
      "cell_type": "code",
      "metadata": {
        "colab": {
          "base_uri": "https://localhost:8080/"
        },
        "id": "FZZTJgMf1YIP",
        "outputId": "6bc7991e-9813-401b-d30f-27f2040475a7"
      },
      "source": [
        "data.target.value_counts()"
      ],
      "execution_count": null,
      "outputs": [
        {
          "output_type": "execute_result",
          "data": {
            "text/plain": [
              "1    165\n",
              "0    138\n",
              "Name: target, dtype: int64"
            ]
          },
          "metadata": {},
          "execution_count": 87
        }
      ]
    },
    {
      "cell_type": "markdown",
      "metadata": {
        "id": "w8ZzjNKXIKre"
      },
      "source": [
        "**Percentage of Patients**"
      ]
    },
    {
      "cell_type": "code",
      "metadata": {
        "colab": {
          "base_uri": "https://localhost:8080/"
        },
        "id": "9W-5FPhQ1oVo",
        "outputId": "0797315b-4cd2-4119-e1e8-bdd53382a28d"
      },
      "source": [
        "countNoDisease = len(data[data.target== 0])\n",
        "countHaveDisease = len(data[data.target == 1])\n",
        "print(\"Percentage of Patients Haven't Heart Disease: {:.2f}%\".format((countNoDisease / (len(data.target))*100)))\n",
        "print(\"Percentage of Patients Have Heart Disease: {:.2f}%\".format((countHaveDisease / (len(data.target))*100)))"
      ],
      "execution_count": null,
      "outputs": [
        {
          "output_type": "stream",
          "name": "stdout",
          "text": [
            "Percentage of Patients Haven't Heart Disease: 45.54%\n",
            "Percentage of Patients Have Heart Disease: 54.46%\n"
          ]
        }
      ]
    },
    {
      "cell_type": "markdown",
      "metadata": {
        "id": "yi_6cqt0IFGR"
      },
      "source": [
        "**Relation between Age and Disease**"
      ]
    },
    {
      "cell_type": "code",
      "metadata": {
        "colab": {
          "base_uri": "https://localhost:8080/",
          "height": 407
        },
        "id": "uZeR9THm2CTQ",
        "outputId": "8293368f-0df9-450e-bd6f-2a9db9c21d69"
      },
      "source": [
        "pd.crosstab(data.age,data.target).plot(kind=\"bar\",figsize=(20,6))\n",
        "plt.title('Heart Disease Frequency for Ages')\n",
        "plt.xlabel('Age')\n",
        "plt.ylabel('Frequency')\n",
        "plt.savefig('heartDiseaseAndAges.png')\n",
        "plt.show()"
      ],
      "execution_count": null,
      "outputs": [
        {
          "output_type": "display_data",
          "data": {
            "image/png": "[encoded data removed]",
            "text/plain": [
              "<Figure size 1440x432 with 1 Axes>"
            ]
          },
          "metadata": {
            "needs_background": "light"
          }
        }
      ]
    },
    {
      "cell_type": "markdown",
      "metadata": {
        "id": "K_7zs4DuH-O8"
      },
      "source": [
        "**Finding Mean of values**"
      ]
    },
    {
      "cell_type": "code",
      "metadata": {
        "colab": {
          "base_uri": "https://localhost:8080/",
          "height": 142
        },
        "id": "c2O5SX3u2UX6",
        "outputId": "28f1973a-8d4d-4dc9-a72d-d27e2ecd0964"
      },
      "source": [
        "data.groupby('target').mean()"
      ],
      "execution_count": null,
      "outputs": [
        {
          "output_type": "execute_result",
          "data": {
            "text/html": [
              "<div>\n",
              "<style scoped>\n",
              "    .dataframe tbody tr th:only-of-type {\n",
              "        vertical-align: middle;\n",
              "    }\n",
              "\n",
              "    .dataframe tbody tr th {\n",
              "        vertical-align: top;\n",
              "    }\n",
              "\n",
              "    .dataframe thead th {\n",
              "        text-align: right;\n",
              "    }\n",
              "</style>\n",
              "<table border=\"1\" class=\"dataframe\">\n",
              "  <thead>\n",
              "    <tr style=\"text-align: right;\">\n",
              "      <th></th>\n",
              "      <th>age</th>\n",
              "      <th>sex</th>\n",
              "      <th>cp</th>\n",
              "      <th>trestbps</th>\n",
              "      <th>chol</th>\n",
              "      <th>fbs</th>\n",
              "      <th>restecg</th>\n",
              "      <th>thalach</th>\n",
              "      <th>exang</th>\n",
              "      <th>oldpeak</th>\n",
              "      <th>slope</th>\n",
              "      <th>ca</th>\n",
              "      <th>thal</th>\n",
              "    </tr>\n",
              "    <tr>\n",
              "      <th>target</th>\n",
              "      <th></th>\n",
              "      <th></th>\n",
              "      <th></th>\n",
              "      <th></th>\n",
              "      <th></th>\n",
              "      <th></th>\n",
              "      <th></th>\n",
              "      <th></th>\n",
              "      <th></th>\n",
              "      <th></th>\n",
              "      <th></th>\n",
              "      <th></th>\n",
              "      <th></th>\n",
              "    </tr>\n",
              "  </thead>\n",
              "  <tbody>\n",
              "    <tr>\n",
              "      <th>0</th>\n",
              "      <td>56.601449</td>\n",
              "      <td>0.826087</td>\n",
              "      <td>0.478261</td>\n",
              "      <td>134.398551</td>\n",
              "      <td>251.086957</td>\n",
              "      <td>0.159420</td>\n",
              "      <td>0.449275</td>\n",
              "      <td>139.101449</td>\n",
              "      <td>0.550725</td>\n",
              "      <td>1.585507</td>\n",
              "      <td>1.166667</td>\n",
              "      <td>1.166667</td>\n",
              "      <td>2.543478</td>\n",
              "    </tr>\n",
              "    <tr>\n",
              "      <th>1</th>\n",
              "      <td>52.496970</td>\n",
              "      <td>0.563636</td>\n",
              "      <td>1.375758</td>\n",
              "      <td>129.303030</td>\n",
              "      <td>242.230303</td>\n",
              "      <td>0.139394</td>\n",
              "      <td>0.593939</td>\n",
              "      <td>158.466667</td>\n",
              "      <td>0.139394</td>\n",
              "      <td>0.583030</td>\n",
              "      <td>1.593939</td>\n",
              "      <td>0.363636</td>\n",
              "      <td>2.121212</td>\n",
              "    </tr>\n",
              "  </tbody>\n",
              "</table>\n",
              "</div>"
            ],
            "text/plain": [
              "              age       sex        cp  ...     slope        ca      thal\n",
              "target                                 ...                              \n",
              "0       56.601449  0.826087  0.478261  ...  1.166667  1.166667  2.543478\n",
              "1       52.496970  0.563636  1.375758  ...  1.593939  0.363636  2.121212\n",
              "\n",
              "[2 rows x 13 columns]"
            ]
          },
          "metadata": {},
          "execution_count": 89
        }
      ]
    },
    {
      "cell_type": "markdown",
      "metadata": {
        "id": "sba1g4l2HuMf"
      },
      "source": [
        "**Plotting Graph between age and Slope(ST segment) and other various features**"
      ]
    },
    {
      "cell_type": "code",
      "metadata": {
        "id": "HoK5_L7p2cy2",
        "colab": {
          "base_uri": "https://localhost:8080/",
          "height": 1000
        },
        "outputId": "7a4362c8-a1d3-495f-e0c0-8250a44839a7"
      },
      "source": [
        "pd.crosstab(data.slope,data.target).plot(kind=\"bar\",figsize=(8,8),color=['#03C6FC','#0F0F0F' ])\n",
        "plt.title('Heart Disease Frequency for Slope')\n",
        "plt.xlabel('The Slope of The Peak Exercise ST Segment ')\n",
        "plt.xticks(rotation = 0)\n",
        "plt.ylabel('Frequency')\n",
        "plt.show()\n",
        "plt.scatter(x=data.age[data.target==1], y=data.thalach[(data.target==1)], c=\"red\")\n",
        "plt.scatter(x=data.age[data.target==0], y=data.thalach[(data.target==0)])\n",
        "plt.legend([\"Disease\", \"Not Disease\"])\n",
        "plt.xlabel(\"Age\")\n",
        "plt.ylabel(\"Maximum Heart Rate\")\n",
        "plt.show()\n",
        "pd.crosstab(data.fbs,data.target).plot(kind=\"bar\",figsize=(8,8),color=['#03C6FC','#0F0F0F' ])\n",
        "plt.title('Heart Disease Frequency According To FBS')\n",
        "plt.xlabel('FBS - (Fasting Blood Sugar > 120 mg/dl) (1 = true; 0 = false)')\n",
        "plt.xticks(rotation = 0)\n",
        "plt.legend([\"Haven't Disease\", \"Have Disease\"])\n",
        "plt.ylabel('Frequency of Disease or Not')\n",
        "plt.show()"
      ],
      "execution_count": null,
      "outputs": [
        {
          "output_type": "display_data",
          "data": {
            "image/png": "[encoded data removed]",
            "text/plain": [
              "<Figure size 576x576 with 1 Axes>"
            ]
          },
          "metadata": {
            "needs_background": "light"
          }
        },
        {
          "output_type": "display_data",
          "data": {
            "image/png": "[encoded data removed]",
            "text/plain": [
              "<Figure size 432x288 with 1 Axes>"
            ]
          },
          "metadata": {
            "needs_background": "light"
          }
        },
        {
          "output_type": "display_data",
          "data": {
            "image/png": "[encoded data removed]",
            "text/plain": [
              "<Figure size 576x576 with 1 Axes>"
            ]
          },
          "metadata": {
            "needs_background": "light"
          }
        }
      ]
    },
    {
      "cell_type": "markdown",
      "metadata": {
        "id": "gMz_Trj1H3Lm"
      },
      "source": [
        "**Plotting graph for Logistic Regression**"
      ]
    },
    {
      "cell_type": "code",
      "metadata": {
        "colab": {
          "base_uri": "https://localhost:8080/",
          "height": 282
        },
        "id": "3DUD2I664JZj",
        "outputId": "96e8bfcf-3979-4700-b05f-bcc1089126aa"
      },
      "source": [
        "plt.scatter(data.age,data.target,marker=\".\",color='black')"
      ],
      "execution_count": null,
      "outputs": [
        {
          "output_type": "execute_result",
          "data": {
            "text/plain": [
              "<matplotlib.collections.PathCollection at 0x7f0965f43350>"
            ]
          },
          "metadata": {},
          "execution_count": 92
        },
        {
          "output_type": "display_data",
          "data": {
            "image/png": "[encoded data removed]",
            "text/plain": [
              "<Figure size 432x288 with 1 Axes>"
            ]
          },
          "metadata": {
            "needs_background": "light"
          }
        }
      ]
    },
    {
      "cell_type": "markdown",
      "metadata": {
        "id": "_Z6M28UxIw53"
      },
      "source": [
        "**Training the datasets using sklearn**"
      ]
    },
    {
      "cell_type": "code",
      "metadata": {
        "colab": {
          "base_uri": "https://localhost:8080/",
          "height": 417
        },
        "id": "UvBXj3Th413_",
        "outputId": "c81cde72-1058-457c-8c03-78f1f741b7a6"
      },
      "source": [
        "from sklearn.linear_model import LogisticRegression\n",
        "from sklearn.model_selection import train_test_split\n",
        "X_train, X_test, y_train, y_test = train_test_split(data[['age']],data.target,train_size=0.2)\n",
        "X_test"
      ],
      "execution_count": null,
      "outputs": [
        {
          "output_type": "execute_result",
          "data": {
            "text/html": [
              "<div>\n",
              "<style scoped>\n",
              "    .dataframe tbody tr th:only-of-type {\n",
              "        vertical-align: middle;\n",
              "    }\n",
              "\n",
              "    .dataframe tbody tr th {\n",
              "        vertical-align: top;\n",
              "    }\n",
              "\n",
              "    .dataframe thead th {\n",
              "        text-align: right;\n",
              "    }\n",
              "</style>\n",
              "<table border=\"1\" class=\"dataframe\">\n",
              "  <thead>\n",
              "    <tr style=\"text-align: right;\">\n",
              "      <th></th>\n",
              "      <th>age</th>\n",
              "    </tr>\n",
              "  </thead>\n",
              "  <tbody>\n",
              "    <tr>\n",
              "      <th>149</th>\n",
              "      <td>42</td>\n",
              "    </tr>\n",
              "    <tr>\n",
              "      <th>273</th>\n",
              "      <td>58</td>\n",
              "    </tr>\n",
              "    <tr>\n",
              "      <th>73</th>\n",
              "      <td>51</td>\n",
              "    </tr>\n",
              "    <tr>\n",
              "      <th>46</th>\n",
              "      <td>44</td>\n",
              "    </tr>\n",
              "    <tr>\n",
              "      <th>152</th>\n",
              "      <td>64</td>\n",
              "    </tr>\n",
              "    <tr>\n",
              "      <th>...</th>\n",
              "      <td>...</td>\n",
              "    </tr>\n",
              "    <tr>\n",
              "      <th>51</th>\n",
              "      <td>66</td>\n",
              "    </tr>\n",
              "    <tr>\n",
              "      <th>257</th>\n",
              "      <td>50</td>\n",
              "    </tr>\n",
              "    <tr>\n",
              "      <th>84</th>\n",
              "      <td>42</td>\n",
              "    </tr>\n",
              "    <tr>\n",
              "      <th>228</th>\n",
              "      <td>59</td>\n",
              "    </tr>\n",
              "    <tr>\n",
              "      <th>83</th>\n",
              "      <td>52</td>\n",
              "    </tr>\n",
              "  </tbody>\n",
              "</table>\n",
              "<p>243 rows × 1 columns</p>\n",
              "</div>"
            ],
            "text/plain": [
              "     age\n",
              "149   42\n",
              "273   58\n",
              "73    51\n",
              "46    44\n",
              "152   64\n",
              "..   ...\n",
              "51    66\n",
              "257   50\n",
              "84    42\n",
              "228   59\n",
              "83    52\n",
              "\n",
              "[243 rows x 1 columns]"
            ]
          },
          "metadata": {},
          "execution_count": 18
        }
      ]
    },
    {
      "cell_type": "markdown",
      "metadata": {
        "id": "H6vzxOgOFavI"
      },
      "source": [
        "**Accuracy of Logistic Regression**"
      ]
    },
    {
      "cell_type": "code",
      "metadata": {
        "colab": {
          "base_uri": "https://localhost:8080/"
        },
        "id": "ubPnKshh5tA_",
        "outputId": "1ad736b1-b8ba-4bf3-d7cd-3026a23c68e5"
      },
      "source": [
        "from sklearn.linear_model import LogisticRegression\n",
        "from sklearn.model_selection import train_test_split\n",
        "accuracies = {}\n",
        "lr = LogisticRegression()\n",
        "lr.fit(X_train,y_train)\n",
        "acc = lr.score(X_test,y_test)*100\n",
        "train_acc = lr.score(X_train,y_train)*100\n",
        "\n",
        "accuracies['Logistic Regression'] = acc\n",
        "print(\"Train Accuracy {:.2f}%\".format(train_acc))\n",
        "print(\"Test Accuracy {:.2f}%\".format(acc))\n",
        "print(\"Error Rate {:.2f}%\".format(100-acc))"
      ],
      "execution_count": null,
      "outputs": [
        {
          "output_type": "stream",
          "name": "stdout",
          "text": [
            "Train Accuracy 63.33%\n",
            "Test Accuracy 63.37%\n",
            "Error Rate 36.63%\n"
          ]
        }
      ]
    },
    {
      "cell_type": "markdown",
      "metadata": {
        "id": "LC44HfpfJAVI"
      },
      "source": [
        "**Confusion Matrix**"
      ]
    },
    {
      "cell_type": "code",
      "metadata": {
        "id": "jvjgHitq67kE",
        "colab": {
          "base_uri": "https://localhost:8080/"
        },
        "outputId": "fb7814b5-6a11-414b-8220-928dfd0aff72"
      },
      "source": [
        "from sklearn.metrics import confusion_matrix\n",
        "y_head_lr = lr.predict(X_test)\n",
        "cm_lr = confusion_matrix(y_test,y_head_lr)\n",
        "y_predicted = lr.predict(X_test)\n",
        "lr.predict_proba(X_test)\n",
        "lr.predict(X_test)\n",
        "print(\"Confusion Matrix:\\n\",cm_lr)"
      ],
      "execution_count": null,
      "outputs": [
        {
          "output_type": "stream",
          "name": "stdout",
          "text": [
            "Confusion Matrix:\n",
            " [[71 39]\n",
            " [50 83]]\n"
          ]
        }
      ]
    },
    {
      "cell_type": "markdown",
      "metadata": {
        "id": "MpXtd9zmFpW4"
      },
      "source": [
        "**Function for predicting the Disease**"
      ]
    },
    {
      "cell_type": "code",
      "metadata": {
        "id": "HVorwdim7b3z"
      },
      "source": [
        "import math\n",
        "def sigmoid(x):\n",
        "  return 1 / (1 + math.exp(-x))\n",
        "def disease_prediction(age):\n",
        "    z = 0.042 * age - 1.53\n",
        "    y = sigmoid(z)\n",
        "    if(y>=0.5 and y<0.8):\n",
        "      print(\"Prone to heart disease ! Stay healthy :|\")    \n",
        "    elif(y>0.8):\n",
        "        print(\"Very prone to heart Disease ! Please consult your doctor :(\")\n",
        "    elif(y>0.3 and y<0.5):\n",
        "        print(\"Less prone to heart Disease ! You are safe :)\")\n",
        "    else:\n",
        "        print(\"Very Less prone to Heart Disease ! You are absolutely safe :)\")"
      ],
      "execution_count": null,
      "outputs": []
    },
    {
      "cell_type": "code",
      "metadata": {
        "colab": {
          "base_uri": "https://localhost:8080/"
        },
        "id": "wFK6XNnsPW8b",
        "outputId": "5dfa6467-7ae5-4139-c31d-5e78a0a6dc19"
      },
      "source": [
        "age= 20\n",
        "disease_prediction(age)"
      ],
      "execution_count": null,
      "outputs": [
        {
          "output_type": "stream",
          "name": "stdout",
          "text": [
            "Less prone to heart Disease ! You are safe :)\n"
          ]
        }
      ]
    }
  ]
}